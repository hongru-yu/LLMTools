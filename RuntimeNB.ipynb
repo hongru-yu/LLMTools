{
 "cells": [
  {
   "cell_type": "markdown",
   "id": "780bcb79052e2356",
   "metadata": {},
   "source": [
    "准备基础运行环境"
   ]
  },
  {
   "cell_type": "code",
   "execution_count": null,
   "id": "initial_id",
   "metadata": {},
   "outputs": [],
   "source": [
    "source /usr/local/Ascend/ascend-toolkit/set_env.sh\n",
    "\n",
    "cd LLaMA-Factory && python -m pip install -e .[metrics]\n",
    "\n",
    "export USE_MODELSCOPE_HUB=1\n",
    "\n",
    "pip install deepspeed==0.13.2\n",
    "\n",
    "pip install modelscope\n",
    "\n",
    "pip install decorator\n",
    "\n",
    "pip install trl==0.8.6"
   ]
  },
  {
   "cell_type": "code",
   "execution_count": null,
   "id": "576c90b4-b196-4311-ba94-3412dc1b733d",
   "metadata": {},
   "outputs": [],
   "source": [
    "print(\"hello\")"
   ]
  },
  {
   "cell_type": "markdown",
   "id": "ef4cd67af7bd783b",
   "metadata": {},
   "source": [
    "模型推理"
   ]
  },
  {
   "cell_type": "code",
   "execution_count": null,
   "id": "276a659ed65b9537",
   "metadata": {},
   "outputs": [],
   "source": [
    "ASCEND_RT_VISIBLE_DEVICES=0,1,2,3 llamafactory-cli chat examples/inference/llama3.yaml"
   ]
  },
  {
   "cell_type": "markdown",
   "id": "dcaefd1a6ca9986e",
   "metadata": {},
   "source": [
    "单机多卡模式下模型微调"
   ]
  },
  {
   "cell_type": "code",
   "execution_count": null,
   "id": "34e6443357e96f5b",
   "metadata": {},
   "outputs": [],
   "source": [
    "bash examples/lora_multi_npu/ds_zero0.sh\n",
    "bash examples/lora_multi_npu/ds_zero0_dpo.sh"
   ]
  },
  {
   "cell_type": "markdown",
   "id": "2a1d68d516d92fe",
   "metadata": {},
   "source": [
    "实现对微调后模型的推理"
   ]
  },
  {
   "cell_type": "code",
   "execution_count": null,
   "id": "58970a34ceccb678",
   "metadata": {},
   "outputs": [],
   "source": [
    "ASCEND_RT_VISIBLE_DEVICES=0,1,2,3 llamafactory-cli chat examples/inference/llama3_lora_sft.yaml"
   ]
  },
  {
   "cell_type": "markdown",
   "id": "91f39d1fa0e97bf",
   "metadata": {},
   "source": [
    "对合并后的模型进行推理"
   ]
  },
  {
   "cell_type": "code",
   "execution_count": null,
   "id": "7fcaae95-5f29-4002-be0f-d567e6e39aae",
   "metadata": {},
   "outputs": [],
   "source": [
    "ASCEND_RT_VISIBLE_DEVICES=0,1,2,3 llamafactory-cli chat examples/inference/llama3.yaml"
   ]
  },
  {
   "cell_type": "code",
   "execution_count": null,
   "id": "c68ad33518179b4a",
   "metadata": {
    "cell_form": "<p class=\"jp-form-content jp-form-title\">Default title text</p><i title=\"Edit the form title\" id=\"edit-form-title\" class=\"fa fa-pencil-square-o edit-margin\"></i>",
    "tags": []
   },
   "outputs": [],
   "source": [
    "#@title 合并DPO后模型\n",
    "ASCEND_RT_VISIBLE_DEVICES=0 llamafactory-cli export examples/merge_lora/llama3_lora_dpo.yaml"
   ]
  },
  {
   "cell_type": "code",
   "execution_count": null,
   "id": "2fd46698-57dd-4295-b0a3-bad450e2ed59",
   "metadata": {
    "cell_form": "<p class=\"jp-form-content jp-form-title\">Default title text</p><i title=\"Edit the form title\" id=\"edit-form-title\" class=\"fa fa-pencil-square-o edit-margin\"></i>",
    "tags": []
   },
   "outputs": [],
   "source": [
    "#@title 合并LoRA后模型\n",
    "ASCEND_RT_VISIBLE_DEVICES=0 llamafactory-cli export examples/merge_lora/llama3_lora_sft.yaml"
   ]
  }
 ],
 "metadata": {
  "kernelspec": {
   "display_name": "Python 3",
   "language": "python",
   "name": "python3"
  },
  "language_info": {
   "codemirror_mode": {
    "name": "ipython",
    "version": 2
   },
   "file_extension": ".py",
   "mimetype": "text/x-python",
   "name": "python",
   "nbconvert_exporter": "python",
   "pygments_lexer": "ipython2",
   "version": "2.7.6"
  },
  "toc-autonumbering": true
 },
 "nbformat": 4,
 "nbformat_minor": 5
}
